{
 "cells": [
  {
   "cell_type": "code",
   "execution_count": 1,
   "metadata": {},
   "outputs": [],
   "source": [
    "%matplotlib inline\n",
    "import os\n",
    "import main"
   ]
  },
  {
   "cell_type": "code",
   "execution_count": 2,
   "metadata": {},
   "outputs": [],
   "source": [
    "img = os.path.join(os.getcwd(), 'data/exp/cityscapes_testset/ex_03.png')\n",
    "config = {\n",
    "        # checkpoint\n",
    "        'checkpoint': 'data/exp/cityscapes_testset',\n",
    "\n",
    "        # resize\n",
    "        'resize_factor': 1,\n",
    "    \n",
    "        # mode\n",
    "        'semseg_mode': 'pass',\n",
    "        'mask_mode': 'exec',\n",
    "        'inpaint_mode': 'exec',\n",
    "\n",
    "        # segmentation\n",
    "        'semseg': 'DeepLabV3',\n",
    "        'resnet': 18,\n",
    "\n",
    "        # mask\n",
    "        'mask': 'entire',\n",
    "        'crop_rate': 1,\n",
    "    \n",
    "        # inpaint\n",
    "        'inpaint': 'EdgeConnect',\n",
    "        'checkpoints_path': 'modules/edge_connect/checkpoints',\n",
    "        'sigma': 2\n",
    "        }"
   ]
  },
  {
   "cell_type": "code",
   "execution_count": 3,
   "metadata": {},
   "outputs": [
    {
     "name": "stdout",
     "output_type": "stream",
     "text": [
      "pretrained resnet, 18\n",
      "Loading EdgeModel generator...\n",
      "Loading InpaintingModel generator...\n",
      "===== Loading Image =====\n",
      "===== Semantic Segmentation =====\n",
      "===== Creating Mask Image =====\n",
      "===== Shadow Detection =====\n",
      "===== Image Inpainting and Edge Inpainting =====\n"
     ]
    }
   ],
   "source": [
    "main.main(img, config, debug=False, save=False)"
   ]
  },
  {
   "cell_type": "code",
   "execution_count": null,
   "metadata": {},
   "outputs": [],
   "source": []
  }
 ],
 "metadata": {
  "kernelspec": {
   "display_name": "Python 3",
   "language": "python",
   "name": "python3"
  },
  "language_info": {
   "codemirror_mode": {
    "name": "ipython",
    "version": 3
   },
   "file_extension": ".py",
   "mimetype": "text/x-python",
   "name": "python",
   "nbconvert_exporter": "python",
   "pygments_lexer": "ipython3",
   "version": "3.6.8"
  }
 },
 "nbformat": 4,
 "nbformat_minor": 2
}
