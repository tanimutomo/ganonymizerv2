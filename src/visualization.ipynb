{
 "cells": [
  {
   "cell_type": "code",
   "execution_count": 1,
   "metadata": {},
   "outputs": [],
   "source": [
    "%matplotlib inline\n",
    "import os\n",
    "import main"
   ]
  },
  {
   "cell_type": "code",
   "execution_count": 2,
   "metadata": {},
   "outputs": [
    {
     "name": "stdout",
     "output_type": "stream",
     "text": [
      "/Users/tanimu/Project/ganonymizerv2/data/exp/cityscapes_testset_1/input /Users/tanimu/Project/ganonymizerv2/data/exp/cityscapes_testset_1\n",
      "input\n",
      "pretrained resnet, 18\n",
      "Loading EdgeModel generator...\n",
      "Loading InpaintingModel generator...\n",
      "Loading \"/Users/tanimu/Project/ganonymizerv2/data/exp/cityscapes_testset_1/input/ex_01.png\"\n",
      "===== Loading Image =====\n",
      "===== Semantic Segmentation =====\n",
      "===== Creating Mask Image =====\n",
      "===== Object Split =====\n",
      "===== Shadow Detection =====\n",
      "===== Create Random Mask =====\n",
      "===== Pseudo Mask Division =====\n",
      "===== Image Inpainting and Edge Inpainting =====\n"
     ]
    }
   ],
   "source": [
    "main.main()"
   ]
  },
  {
   "cell_type": "code",
   "execution_count": null,
   "metadata": {},
   "outputs": [],
   "source": []
  }
 ],
 "metadata": {
  "kernelspec": {
   "display_name": "Python 3",
   "language": "python",
   "name": "python3"
  },
  "language_info": {
   "codemirror_mode": {
    "name": "ipython",
    "version": 3
   },
   "file_extension": ".py",
   "mimetype": "text/x-python",
   "name": "python",
   "nbconvert_exporter": "python",
   "pygments_lexer": "ipython3",
   "version": "3.6.8"
  }
 },
 "nbformat": 4,
 "nbformat_minor": 2
}
